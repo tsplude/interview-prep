{
 "cells": [
  {
   "cell_type": "markdown",
   "metadata": {},
   "source": [
    "## Unique Email Address\n",
    "\n",
    "Every email consists of a local name and a domain name, separated by the @ sign.\n",
    "\n",
    "For example, in alice@leetcode.com, alice is the local name, and leetcode.com is the domain name.\n",
    "\n",
    "Besides lowercase letters, these emails may contain '.'s or '+'s.\n",
    "\n",
    "If you add periods ('.') between some characters in the local name part of an email address, mail sent there will be forwarded to the same address without dots in the local name.  For example, \"alice.z@leetcode.com\" and \"alicez@leetcode.com\" forward to the same email address.  (Note that this rule does not apply for domain names.)\n",
    "\n",
    "If you add a plus ('+') in the local name, everything after the first plus sign will be ignored. This allows certain emails to be filtered, for example m.y+name@email.com will be forwarded to my@email.com.  (Again, this rule does not apply for domain names.)\n",
    "\n",
    "It is possible to use both of these rules at the same time.\n",
    "\n",
    "Given a list of emails, we send one email to each address in the list.  How many different addresses actually receive mails?\n",
    "\n",
    "Example 1:\n",
    "```python\n",
    "Input: [\"test.email+alex@leetcode.com\",\"test.e.mail+bob.cathy@leetcode.com\",\"testemail+david@lee.tcode.com\"]\n",
    "Output: 2\n",
    "Explanation: \"testemail@leetcode.com\" and \"testemail@lee.tcode.com\" actually receive mails\n",
    "```"
   ]
  },
  {
   "cell_type": "code",
   "execution_count": 2,
   "metadata": {},
   "outputs": [],
   "source": [
    "from typing import List\n",
    "\n",
    "class Solution:\n",
    "    @staticmethod\n",
    "    def reduce_email(email: str):\n",
    "        local, domain = email.split('@')\n",
    "        return local.replace('.', '').split('+')[0] + '@' + domain\n",
    "\n",
    "    def numUniqueEmails(self, emails: List[str]) -> int:\n",
    "        return len(set([\n",
    "            Solution.reduce_email(email)\n",
    "            for email in emails\n",
    "        ]))\n"
   ]
  },
  {
   "cell_type": "code",
   "execution_count": null,
   "metadata": {},
   "outputs": [],
   "source": [
    "s = Solution()\n",
    "s.numUniqueEmails([\"test.email+alex@leetcode.com\",\"test.e.mail+bob.cathy@leetcode.com\",\"testemail+david@lee.tcode.com\"])"
   ]
  },
  {
   "cell_type": "markdown",
   "metadata": {},
   "source": [
    "## Odd Even Jump\n",
    "You are given an integer array A. From some starting index, you can make a series of jumps. The (1st, 3rd, 5th, ...) jumps in the series are called odd-numbered jumps, and the (2nd, 4th, 6th, ...) jumps in the series are called even-numbered jumps. Note that the jumps are numbered, not the indices.\n",
    "\n",
    "You may jump forward from index i to index j (with i < j) in the following way:\n",
    "\n",
    "During odd-numbered jumps (i.e., jumps 1, 3, 5, ...), you jump to the index j such that A[i] <= A[j] and A[j] is the smallest possible value. If there are multiple such indices j, you can only jump to the smallest such index j.\n",
    "During even-numbered jumps (i.e., jumps 2, 4, 6, ...), you jump to the index j such that A[i] >= A[j] and A[j] is the largest possible value. If there are multiple such indices j, you can only jump to the smallest such index j.\n",
    "It may be the case that for some index i, there are no legal jumps.\n",
    "A starting index is good if, starting from that index, you can reach the end of the array (index A.length - 1) by jumping some number of times (possibly 0 or more than once).\n",
    "\n",
    "Return the number of good starting indices.\n",
    "\n",
    "\n",
    "Example 1:\n",
    "```\n",
    "Input: A = [10,13,12,14,15]\n",
    "Output: 2\n",
    "Explanation: \n",
    "From starting index i = 0, we can make our 1st jump to i = 2 (since A[2] is the smallest among A[1], A[2], A[3],\n",
    "A[4] that is greater or equal to A[0]), then we cannot jump any more.\n",
    "From starting index i = 1 and i = 2, we can make our 1st jump to i = 3, then we cannot jump any more.\n",
    "From starting index i = 3, we can make our 1st jump to i = 4, so we have reached the end.\n",
    "From starting index i = 4, we have reached the end already.\n",
    "In total, there are 2 different starting indices i = 3 and i = 4, where we can reach the end with some number of\n",
    "jumps.\n",
    "```"
   ]
  },
  {
   "cell_type": "code",
   "execution_count": 25,
   "metadata": {},
   "outputs": [],
   "source": [
    "from collections import defaultdict\n",
    "from typing import List\n",
    "\n",
    "class Solution:\n",
    "    \n",
    "    @staticmethod\n",
    "    def isGoodStart(A: List[int], idx: int, n: int, history: dict) -> (bool, dict):\n",
    "        \"\"\"\n",
    "        A: the input integer list\n",
    "        idx: index where we are\n",
    "        n: jump number\n",
    "        history: cache of past results, maps index and odd/even of jump number -> result\n",
    "        \"\"\"\n",
    "        if idx == len(A) - 1:\n",
    "            return (True, history)\n",
    "        \n",
    "        cached = history.get((idx, n % 2), False)\n",
    "        if cached:\n",
    "            history['hits'] += 1\n",
    "            return (cached, history)\n",
    "\n",
    "        if n % 2:\n",
    "            # Odd jump\n",
    "            valids = [j for j in range(idx + 1, len(A)) if A[idx] <= A[j]]\n",
    "            f = min\n",
    "        else:\n",
    "            # Even jump\n",
    "            valids = [j for j in range(idx + 1, len(A)) if A[idx] >= A[j]]\n",
    "            f = max\n",
    "        \n",
    "        if len(valids) == 0:\n",
    "            history[(idx, n % 2)] = False\n",
    "            return (False, history)\n",
    "        \n",
    "        values = [A[j] for j in valids]\n",
    "        next_idx = valids[values.index(f(values))]\n",
    "        result, history = Solution.isGoodStart(A, next_idx, n+1, history)\n",
    "        history[(idx, n % 2)] = result\n",
    "        return result, history\n",
    "            \n",
    "    def oddEvenJumps(self, A: List[int]) -> int:\n",
    "        history = {'hits': 0}\n",
    "        results = []\n",
    "        for i in range(0, len(A)):\n",
    "            result_i, history = Solution.isGoodStart(A, i, 1, history)\n",
    "            results.append(result_i)\n",
    "        #print('hits:', history['hits'])\n",
    "        return sum(results)\n"
   ]
  },
  {
   "cell_type": "code",
   "execution_count": 6,
   "metadata": {},
   "outputs": [
    {
     "name": "stdout",
     "output_type": "stream",
     "text": [
      "20000\n",
      "<class 'int'>\n"
     ]
    }
   ],
   "source": [
    "test = eval(open('odd-even-input1.txt').readline())"
   ]
  },
  {
   "cell_type": "code",
   "execution_count": 27,
   "metadata": {},
   "outputs": [
    {
     "name": "stdout",
     "output_type": "stream",
     "text": [
      "hits: 16003\n",
      "16023\n",
      "CPU times: user 30.6 s, sys: 0 ns, total: 30.6 s\n",
      "Wall time: 30.6 s\n"
     ]
    }
   ],
   "source": [
    "%%time\n",
    "s = Solution()\n",
    "res = s.oddEvenJumps(test)\n",
    "print(res)"
   ]
  },
  {
   "cell_type": "code",
   "execution_count": null,
   "metadata": {},
   "outputs": [],
   "source": []
  }
 ],
 "metadata": {
  "kernelspec": {
   "display_name": "Python 3",
   "language": "python",
   "name": "python3"
  },
  "language_info": {
   "codemirror_mode": {
    "name": "ipython",
    "version": 3
   },
   "file_extension": ".py",
   "mimetype": "text/x-python",
   "name": "python",
   "nbconvert_exporter": "python",
   "pygments_lexer": "ipython3",
   "version": "3.8.5"
  }
 },
 "nbformat": 4,
 "nbformat_minor": 4
}
